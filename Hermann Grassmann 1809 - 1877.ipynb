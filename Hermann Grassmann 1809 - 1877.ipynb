{
 "cells": [
  {
   "cell_type": "markdown",
   "metadata": {},
   "source": [
    "Hermann Günther Grassmann (nemško: Graßmann; April 15, 1809 – September 26, 1877) je bil nemški polimat, ki je v svojem času znan kot jezikoslovec in zdaj tudi kot matematik. Bil je tudi fizik, neohumanist, splošni učenjak in založnik. Njegovo matematično delo je bilo malo opazno, šele v svojih zadnjih letih je dobil nekaj zadoščenja.\n",
    "\n",
    "*V celotni paleti matematikov, ki so, od antičnih Grkov dalje, pustili svoj pečat, Hermann Grassmann zagotovo izstopa v mnogih pogledih, ko se primerja z ostalimi matematiki. Njegova kariera je neprekinjena serija nenavadnosti: njegov študij, njegov matematični stil, pozno spoznanje svojih matematičnih sposobnosti, nenavadno in nesrečno popolno nerazumevanje njegovih idej, ne samo za časa njegovega življenja, ampak tudi še dolgo po njegovi smrti, ignoriranje, ki ga je primoralo, da je ostal celo življenje profesor na srednji šoli.*\n",
    "(Jean Dieudonné)"
   ]
  },
  {
   "cell_type": "markdown",
   "metadata": {},
   "source": [
    "Rojen je bil v mestu Ščečin, tedaj kraj v Pomeraniji, provinci Pruskega kraljevstva.\n",
    "Leži ob reki Odri, nedaleč od Baltskega morja.\n",
    "Tam je preživel večino življenju in tudi umrl. \n",
    "Dejansko je bila edina daljša odsotnost študij v Berlinu. Tam je bil 6 semestrov, osredotočil se je predvsem na teologijo, na drugem mestu pa na filologijo. Matematike v Berlinu ni študiral.\n",
    "\n",
    "Etimologija: po more -> Primorska\n",
    "<a href='http://prussianpoland.com/map.html'>Zemljevid</a>\n",
    "\n",
    "Mecklenburg-Predpomorjanska (nemško Mecklenburg-Vorpommern) je dežela v Nemčiji. Leži na skrajnem severovzhodu države; na vzhodu meji na Poljsko, na jugu na Brandenburg, na jugozahodu na Spodnjo Saško, na zahodu na Schleswig-Holstein, s severne strani pa jo obdaja Baltsko morje. Glavno mesto je Schwerin, največje pa Rostock.\n",
    "\n",
    "https://sl.wikipedia.org/wiki/Mecklenburg-Predpomorjanska#/media/File:Mecklenburg-Vorpommern_Map_Districts_Border_Mecklenburg_Western_Pomerania_-_Landkreise_Grenzen_Karte_MV_MeckPomm.svg\n",
    "\n",
    "Poljska:\n",
    "Zahodnopomorjansko vojvodstvo\n",
    "\n",
    "1\tWarsaw\t\n",
    "2\tKraków\t\n",
    "3\tLódz\t\n",
    "4\tWroclaw\t\n",
    "5\tPoznan\t\n",
    "6\tGdansk\t\n",
    "7\tSzczecin\n",
    "\n",
    "Leta 1720 je bila Švedska po severni vojni prisiljena odstopiti mestu Kralju Frederiku Williamu I iz Prusije. Ščečin je postal glavno mesto Brandenburško-pruske pomorjanske pokrajine, od leta 1815 se je preoblikovala kot pokrajina Pomeranija. Leta 1816 je bilo v mestu 26.000 prebivalcev.\n",
    "\n",
    "![XXX](images/Taking_of_Stettin_by_French_troops_1806.png)\n",
    "\n",
    "Oktobra 1806 se je pruski poveljnik generalpodpolkovnik Friedrich von Romberg strinjal, da bo mesto predal francozom pod poveljstvom generala Lassalleja. Pravzaprav je Lassalle imel samo 800 vojakoc proti von Rombergovim 5300. Marca 1809 je bil Romberg obsojen in obsojen na doživljensko zaporno kazen, ker se je brez odpora odrekel Ščečin.\n",
    "Mesto je bilo pod francosko upravo vse do leta 1813."
   ]
  },
  {
   "cell_type": "markdown",
   "metadata": {},
   "source": [
    "William Jones (1746 - 1794)\n",
    "Tretji letni diskurs Williama Jonesa pred Azijskim društvom o zgodovini in kulturi Hindujcev (izdan 2. februarja 1786 in objavljen leta 1788) s slavnim filološkim odlomkom se pogosto navaja kot začetek primerjalnega jezikoslovja in indoevropskih študij.\n",
    "\n",
    "*The Sanscrit language, whatever be its antiquity, is of a wonderful structure; more perfect than the Greek, more copious than the Latin, and more exquisitely refined than either, yet bearing to both of them a stronger affinity, both in the roots of verbs and the forms of grammar, than could possibly have been produced by accident; so strong indeed, that no philologer could examine them all three, without believing them to have sprung from some common source, which, perhaps, no longer exists; there is a similar reason, though not quite so forcible, for supposing that both the Gothic and the Celtic, though blended with a very different idiom, had the same origin with the Sanscrit; and the old Persian might be added to the same family.*\n",
    "\n",
    "Ta skupni vir je postal znan kot Proto-indoevropski.\n",
    "Jones je bil prvi, ki je predlagal rasno delitev Indije, ki je vključevala arijsko invazijo, vendar takrat ni bilo dovolj dokazov, ki bi podprli to tezo.\n",
    "<br/><br/>\n",
    "![SA](images/South_Asian_Language_Families.jpg)"
   ]
  },
  {
   "cell_type": "markdown",
   "metadata": {},
   "source": [
    "Ko je v zgodnjih 1860-ih Grassmann začel prevajati te skoraj 3000-letne indijske himne, skorajda ni imel nobene znanstvene literature. Postopoma je prejel koristne publikacije od drugih raziskovalcev.\n",
    "Grassmannova volja, da se osredotoči na najmanjše podrobnosti in njegova izredna zavezanost projektu je bila izredna. Tako je nekdanji Grassmannov učenec opisal to obdobje:\n",
    "*\"Razen časa, ki ga je preživel s svojo družino, je posvetil vsako prosto minuto temu projektu. Vestno,  v svoji lepi pisavi, je napisal besedo za besedao, številko za številko,  v tistih ogromnih zbirkah besedil, ki so nam dali njegov slovar in prevod Ved.\"*\n",
    "<br/><br/>\n",
    "\n",
    "<a href=\"http://tinyurl.com/y7w2ga4w\">Wörterbuch zum Rig-Veda</a><br/>\n",
    "<a href=\"http://gretil.sub.uni-goettingen.de/gretil/6_sres/2_dict/grasg_pu.htm\">Wörterbuch zum Rig-Veda online </a><br/>\n",
    "<a href=\"https://archive.org/details/rigveda02grasgoog\">Rig-Veda</a>\n",
    "\n",
    "<b>nemška wikipedia</b>: <br/>\n",
    "Rita (Sanskrit: ऋत ṛta n. „Wahrheit, Recht, Ordnung“) ist ein zentraler Begriff der vedischen Zeit und bezeichnet sowohl die natürliche Ordnung, die religiöse, die konkrete als auch die moralische Ordnung der Menschen und der Gesellschaft. An Rita sind alle Wesen gebunden, Menschen, Tiere Pflanzen und Götter. Es ist die Ordnung sowohl des Himmels als auch der Erde.\n",
    "Der Begriff ist eng verknüpft mit den beiden Gottheiten Mitra und Varuna, die als ihre Hüter und Wächter erschienen.[1] Obwohl es sich dabei um eines der wichtigsten Konzepte der vedischen Zeit handelt, erscheint Rita im Gegensatz zu anderen Göttern aber nicht als personifizierte Gottheit, sondern als rein abstraktes Prinzip. Es wird vielmehr von anderen Göttern vertreten, die für die Aufrechterhaltung und Überwachung des Rita sorgen.\n",
    "<br/><br/>\n",
    "<b>Wörterbuch zum Rig-Veda:</b>\n",
    "<br/>\n",
    "![rta](images/rta.png)"
   ]
  },
  {
   "cell_type": "markdown",
   "metadata": {
    "collapsed": true
   },
   "source": [
    "**Ausdehnungslehre** \n",
    "\n",
    "Leta 1844 je Grassmann objavil svojo mojstrovino, Die Lineale Ausdehnungslehre, ein neuer Zweig der Mathematik (Teorija linearne razširitve, nova veja matematike), v nadaljnjem besedilu označena z A1 in se običajno imenuje Ausdehnungslehre, ki se prevaja kot \"teorija razširitve\", ang. \"theory of extension\". Ker je v A1 predlagal novo osnovo za vso matematiko, se je delo začelo s precej splošnimi opredelitvami filozofske narave. Grassmann je nato pokazal, da ko se geometrija 'prevede' v algebrsko obliko, število tri nima privilegirane vloge kot število prostorskih dimenzij; število možnih dimenzij je dejansko neomejeno.\n",
    "\n",
    "Fearnley-Sander (1979) opisuje Grassmannovo osnovo linearne algebre na naslednji način:\n",
    "\n",
    "*Definicija linearnega prostora (vektorski prostor) ... je postala znana okoli leta 1920, ko so Hermann Weyl in drugi objavili formalne definicije. Pravzaprav je tovrstno definicijo dal že 30 let prej Peano, ki se je temeljito seznanil z matematičnim delom Grassmanna. Grassmann ni dal formalne opredelitve,jezik ni bil na voljo, vendar ni nobenega dvoma, da je imel koncept.\n",
    "Začne z množico \"enot\" e1, e2, e3, ..., nato dejansko definira (prosti) linearni prostor, ki ga generirajo. Tako razmatra formalne linearne kombinacije a1e1 + a2e2 + a3e3 + ..., kjer so aj realna števila, definira seštevanje in množenje z realnimi števili ... Nato razvije teorijo linearne neodvisnosti na način, ki je presenetljivo podoben sodobni definiciji. Definira pojme podprostora, linearno neodvisnost, razpon (span), dimenzijo, unijo in presek podprostorjev ter projekcije elementov na podprostore.\n",
    "... malo jih je prišlo bližje kot Hermann Grassmann, da so ustvaril novo matematično disciplino.*\n",
    "\n",
    "Möbius ni želel napisati recenzije. Bil je samo odkrit glede svoje nezmožnost, da pravično oceni knjigo. \n",
    "Vsi tedanji bralci so imeli težave razumevanje knjige. Möbius ni maral visoko stopnjo filozofske abstrakcije. Nekdo drug je zapisal, da ga knjiga naredi vrtoglavega in dezorientiranega.\n",
    "\n",
    "Mnenje Gausa (pismo poslano Grassmannu 14. dec. 1844)>\n",
    "*Zavedam se, da bi, če bi resnično želel razumeti bistvo vaše knjige, bi najprej moral osvojiti specifično terminologijo. Ampak za to bi moral odložiti ostale obveznosti (kar pa ne gre), ne želim več odlašati z odgovorom, da se vam prijazno zahvaljujem za poslano knjigo*"
   ]
  },
  {
   "cell_type": "markdown",
   "metadata": {},
   "source": [
    "Sedem dejavnikov, ki je odločilno vplivalo na Ausdehnunglehre:\n",
    "\n",
    "1. Grassmann je pripadal stari pomorjanski družina luteranskih pastorjev. \n",
    "Povezave med družinskimi člani so bile zelo močne.\n",
    "Bil pod vplivi Pietizma in razsvetljenstva.\n",
    "\n",
    "2. Oče Justus Grassmann je imel velik vpliv. To je eden od redkih primerov v zgodovini znanosti, \n",
    "kjer so ideje, spoznanja in miselnost očeta vplivale na znanstveno vizijo sina.\n",
    "\n",
    "3. Družbeno in kulturno vzdušje v Stettinu.\n",
    "Romantika, religioznost in nemški nacionalizem so bile prevladujoče intelektualne težnje v mestu.\n",
    "Pridružil se je prostozidarjem.\n",
    "Gimnazija je bilo mesto znanstveno in kulturno jedro mesta.\n",
    "\n",
    "4. Brat Robert Grassmann\n",
    "\n",
    "5. Dialektika Friedricha Schleiermacherja. Grassmann je izjavil, da neskončno veliko dolguje \n",
    "Schleiermacherju v znanstvenih pogledih.\n",
    "\n",
    "6. Ukinil je absolutno povezavo med geometrijo in metriko, posplošil koncept dimenzije na poljuben n, \n",
    "v veliki meri odpravila koncept koordinat, vseto so temeljni problemi, ki so v 19. stoletju \n",
    "pripeljali do nove stopnje abstrakcije v razumevanju geometrije, kot Erlangen programu F. Kleina.\n",
    "\n",
    "7. Grassmannov je bil avtodidakt. Ni sledil utečenim potem v matematiki in\n",
    "ni bil pod vplivom akademskih trendov v matematiki. \n",
    "Dejstvo, da se je interes za matematiko začel na relativno pozno (23 let?), je dalo čas, da se je \n",
    "do takrat filozofsko in intelektualno že formiral.\n"
   ]
  },
  {
   "cell_type": "markdown",
   "metadata": {},
   "source": [
    "** Grassmannian **\n",
    "\n",
    "Grassmannian Gr(r, V) prostor, ki parametrizira vse r-dimenzionalne linearne \n",
    "podprosteje n-dimenzionalnega vektorskega prostora V. \n",
    "Na primer, Grassmanian Gr(1, V) je prostor premic skozi izhodišče v V, \n",
    "tako da je to ravno projektivni prostor dimenzije n-1.\n",
    "\n",
    "Ko je V realen ali kompleksen vektorski prostor, so Gr(r, V) kompaktne gladke mnogoterosti."
   ]
  },
  {
   "cell_type": "markdown",
   "metadata": {},
   "source": [
    "** Graßmann-Algebra ** \n",
    "\n",
    "Grassmann algebra je asociativna algebra nad danim vektorskim prostorom, tako da je kvadrat vsakega elementa 0. Multiplikativna operacija se imenuje zunanji produkt in ima oznako $\\wedge$, npr $ a \\wedge b$. Ime izhaja iz tega, da zunanji produkt dveh vektorjev ni vektor.\n",
    "\n",
    "*Algebra* nad poljem (pogosto samo algebra) je vektorski prostor, opremljen z bilinearnim produktom. Tako je algebra algebrska struktura, ki jo sestavlja množica, seštevanje, množenje in skalarno množenje z elementi polja in zadošča aksiomom, implciranim z \"vektorski prostor\" in \"bilinear\".\n",
    "\n",
    "- Elementarna algebra\n",
    "- Abstraktma algebra, kjer so algebrajske strukture kot grupe, kolobarji in polja so aksiomatsko definirane in raziskovane\n",
    "- Linearna algebra, predmet študija so linearne enačbe, vektorski prostori in matrike\n",
    "- Booleanova algebra - logika\n",
    "- Homological algebra - topologija\n",
    "- Univerzalna algebra, študij lastnosti, ki so skupne vsem algebrajskim strukturam\n",
    "\n",
    "Algebra kot algebrajska struktura:\n",
    "\n",
    "- Algebra nad poljem ali bolj splošno algebra nad kolobarjem.\n",
    "- Asociativna algebra\n",
    "- Ne-asociativna algebra\n",
    "- Lie algebra\n",
    "- Grassmann algebra\n",
    "- Clifford algebra\n",
    "\n"
   ]
  },
  {
   "cell_type": "markdown",
   "metadata": {},
   "source": [
    "Grassmannova algebra je primer gradirane (graded) algebre.\n",
    "Primer Grassmannove algebre za evklidski 3-dim prostor, ki ima dimenzijo 8. Bazni elementi za 3 linearno neodvisne vektorje  a, b in c so:<br>\n",
    "$1$ <br>\n",
    "$a, b, c$ <br>\n",
    "$ a \\wedge b$, $ b \\wedge c$, $ c \\wedge a$ <br>\n",
    "$ a \\wedge b \\wedge c$\n",
    "\n",
    "\n",
    "\n"
   ]
  },
  {
   "cell_type": "markdown",
   "metadata": {},
   "source": [
    "literatura: \n",
    "Hans-Joachim Petsche: Hermann Graßmann: Biography"
   ]
  }
 ],
 "metadata": {
  "kernelspec": {
   "display_name": "Python 3",
   "language": "python",
   "name": "python3"
  },
  "language_info": {
   "codemirror_mode": {
    "name": "ipython",
    "version": 3
   },
   "file_extension": ".py",
   "mimetype": "text/x-python",
   "name": "python",
   "nbconvert_exporter": "python",
   "pygments_lexer": "ipython3",
   "version": "3.5.2"
  }
 },
 "nbformat": 4,
 "nbformat_minor": 2
}
